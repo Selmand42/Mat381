{
 "cells": [
  {
   "cell_type": "markdown",
   "id": "42dbe4a7-74d4-457e-ba54-246e78286d50",
   "metadata": {},
   "source": [
    "## Atabey's Notes\n",
    "\n",
    "You could have formatted the roll call number with `f\"{roll_call:03}\"`.\n",
    "\n",
    "You saved your data as CSV but that doesn't work. I don't see how you read the data in that format.\n",
    "\n",
    "- Q1: Calculations don't make much sense.\n",
    "- Q2: Seems ok.\n",
    "- Q3: Numbers are not correct.\n",
    "\n",
    "10 + 25 + 15 + 0 = 50/100"
   ]
  },
  {
   "cell_type": "code",
   "execution_count": 156,
   "id": "636e8f72",
   "metadata": {},
   "outputs": [],
   "source": [
    "from urllib.request import urlopen\n",
    "import xmltodict\n",
    "import pandas as pd\n",
    "from collections import defaultdict\n",
    "import heapq\n",
    "from operator import itemgetter\n",
    "import numpy as np\n",
    "from datetime import datetime"
   ]
  },
  {
   "cell_type": "code",
   "execution_count": 86,
   "id": "f5a20c59",
   "metadata": {},
   "outputs": [],
   "source": [
    "data = []"
   ]
  },
  {
   "cell_type": "markdown",
   "id": "5a8e092d",
   "metadata": {},
   "source": [
    "I used the appropriate link to pull the data. I collected each year's data in an array and then transferred the array containing each year's data into another array.  Since I finished this question before you posted the last announcement, I did the data extraction and analysis part in one place"
   ]
  },
  {
   "cell_type": "code",
   "execution_count": 87,
   "id": "d1d7ff27",
   "metadata": {},
   "outputs": [
    {
     "name": "stdout",
     "output_type": "stream",
     "text": [
      "1990 100\n",
      "1990 200\n",
      "1990 300\n",
      "1990 400\n",
      "1990 500\n",
      "1990  Yılında  536  kadar veri var.\n",
      "1991 100\n",
      "1991 200\n",
      "1991 300\n",
      "1991 400\n",
      "1991  Yılında  444  kadar veri var.\n",
      "1992 100\n",
      "1992 200\n",
      "1992 300\n",
      "1992 400\n",
      "1992  Yılında  488  kadar veri var.\n",
      "1993 100\n",
      "1993 200\n",
      "1993 300\n",
      "1993 400\n",
      "1993 500\n",
      "1993 600\n",
      "1993  Yılında  615  kadar veri var.\n",
      "1994 100\n",
      "1994 200\n",
      "1994 300\n",
      "1994 400\n",
      "1994 500\n",
      "1994  Yılında  507  kadar veri var.\n",
      "1995 100\n",
      "1995 200\n",
      "1995 300\n",
      "1995 400\n",
      "1995 500\n",
      "1995 600\n",
      "1995 700\n",
      "1995 800\n",
      "1995  Yılında  885  kadar veri var.\n",
      "1996 100\n",
      "1996 200\n",
      "1996 300\n",
      "1996 400\n",
      "1996  Yılında  455  kadar veri var.\n",
      "1997 100\n",
      "1997 200\n",
      "1997 300\n",
      "1997 400\n",
      "1997 500\n",
      "1997 600\n",
      "1997  Yılında  640  kadar veri var.\n",
      "1998 100\n",
      "1998 200\n",
      "1998 300\n",
      "1998 400\n",
      "1998 500\n",
      "1998  Yılında  547  kadar veri var.\n",
      "1999 100\n",
      "1999 200\n",
      "1999 300\n",
      "1999 400\n",
      "1999 500\n",
      "1999 600\n",
      "1999  Yılında  611  kadar veri var.\n",
      "2000 100\n",
      "2000 200\n",
      "2000 300\n",
      "2000 400\n",
      "2000 500\n",
      "2000 600\n",
      "2000  Yılında  603  kadar veri var.\n",
      "2001 100\n",
      "2001 200\n",
      "2001 300\n",
      "2001 400\n",
      "2001 500\n",
      "2001  Yılında  512  kadar veri var.\n",
      "2002 100\n",
      "2002 200\n",
      "2002 300\n",
      "2002 400\n",
      "2002  Yılında  484  kadar veri var.\n",
      "2003 100\n",
      "2003 200\n",
      "2003 300\n",
      "2003 400\n",
      "2003 500\n",
      "2003 600\n",
      "2003  Yılında  677  kadar veri var.\n",
      "2004 100\n",
      "2004 200\n",
      "2004 300\n",
      "2004 400\n",
      "2004 500\n",
      "2004  Yılında  544  kadar veri var.\n",
      "2005 100\n",
      "2005 200\n",
      "2005 300\n",
      "2005 400\n",
      "2005 500\n",
      "2005 600\n",
      "2005  Yılında  671  kadar veri var.\n",
      "2006 100\n",
      "2006 200\n",
      "2006 300\n",
      "2006 400\n",
      "2006 500\n",
      "2006  Yılında  543  kadar veri var.\n",
      "2007 100\n",
      "2007 200\n",
      "2007 300\n",
      "2007 400\n",
      "2007 500\n",
      "2007 600\n",
      "2007 700\n",
      "2007 800\n",
      "2007 900\n",
      "2007 1000\n",
      "2007 1100\n",
      "2007  Yılında  1186  kadar veri var.\n",
      "2008 100\n",
      "2008 200\n",
      "2008 300\n",
      "2008 400\n",
      "2008 500\n",
      "2008 600\n",
      "2008  Yılında  690  kadar veri var.\n",
      "2009 100\n",
      "2009 200\n",
      "2009 300\n",
      "2009 400\n",
      "2009 500\n",
      "2009 600\n",
      "2009 700\n",
      "2009 800\n",
      "2009 900\n",
      "2009  Yılında  991  kadar veri var.\n",
      "2010 100\n",
      "2010 200\n",
      "2010 300\n",
      "2010 400\n",
      "2010 500\n",
      "2010 600\n",
      "2010  Yılında  664  kadar veri var.\n",
      "2011 100\n",
      "2011 200\n",
      "2011 300\n",
      "2011 400\n",
      "2011 500\n",
      "2011 600\n",
      "2011 700\n",
      "2011 800\n",
      "2011 900\n",
      "2011  Yılında  949  kadar veri var.\n",
      "2012 100\n",
      "2012 200\n",
      "2012 300\n",
      "2012 400\n",
      "2012 500\n",
      "2012 600\n",
      "2012  Yılında  659  kadar veri var.\n",
      "2013 100\n",
      "2013 200\n",
      "2013 300\n",
      "2013 400\n",
      "2013 500\n",
      "2013 600\n",
      "2013  Yılında  641  kadar veri var.\n",
      "2014 100\n",
      "2014 200\n",
      "2014 300\n",
      "2014 400\n",
      "2014 500\n",
      "2014  Yılında  564  kadar veri var.\n",
      "2015 100\n",
      "2015 200\n",
      "2015 300\n",
      "2015 400\n",
      "2015 500\n",
      "2015 600\n",
      "2015 700\n",
      "2015  Yılında  705  kadar veri var.\n",
      "2016 100\n",
      "2016 200\n",
      "2016 300\n",
      "2016 400\n",
      "2016 500\n",
      "2016 600\n",
      "2016  Yılında  622  kadar veri var.\n",
      "2017 100\n",
      "2017 200\n",
      "2017 300\n",
      "2017 400\n",
      "2017 500\n",
      "2017 600\n",
      "2017 700\n",
      "2017  Yılında  710  kadar veri var.\n",
      "2018 100\n",
      "2018 200\n",
      "2018 300\n",
      "2018 400\n",
      "2018 500\n",
      "2018  Yılında  500  kadar veri var.\n",
      "2019 100\n",
      "2019 200\n",
      "2019 300\n",
      "2019 400\n",
      "2019 500\n",
      "2019 600\n",
      "2019 700\n",
      "2019  Yılında  701  kadar veri var.\n",
      "2020 100\n",
      "2020 200\n",
      "2020  Yılında  253  kadar veri var.\n",
      "2021 100\n",
      "2021 200\n",
      "2021 300\n",
      "2021 400\n",
      "2021  Yılında  449  kadar veri var.\n",
      "2022 100\n",
      "2022 200\n",
      "2022 300\n",
      "2022 400\n",
      "2022 500\n",
      "2022  Yılında  549  kadar veri var.\n",
      "2023 100\n",
      "2023 200\n",
      "2023 300\n",
      "2023 400\n",
      "2023 500\n",
      "2023 600\n",
      "2023  Yılında  679  kadar veri var.\n"
     ]
    }
   ],
   "source": [
    "\n",
    "for year in range(1990,2024):\n",
    "    data.append([])\n",
    "    count = 0\n",
    "    try:\n",
    "        i = 1\n",
    "        while True:\n",
    "                roll_call = str(i)\n",
    "                roll_call = \"0\" * (3 - len(roll_call)) + roll_call\n",
    "                with urlopen(\"https://clerk.house.gov/evs/\" + str(year) + \"/roll\" + str(roll_call) + \".xml\") as url:\n",
    "                    raw = xmltodict.parse(url.read())\n",
    "                \n",
    "                data[year - 1990].append(raw)\n",
    "                i += 1\n",
    "                count += 1\n",
    "                if i % 100 == 0:\n",
    "                    print(year,i)\n",
    "    except:\n",
    "        \n",
    "        print(year, \" Yılında \" , count, \" kadar veri var.\")\n",
    "        continue\n",
    "    \n"
   ]
  },
  {
   "cell_type": "code",
   "execution_count": 88,
   "id": "828ac93a",
   "metadata": {},
   "outputs": [],
   "source": [
    "df = pd.DataFrame(data)"
   ]
  },
  {
   "cell_type": "code",
   "execution_count": 89,
   "id": "b79234e7",
   "metadata": {},
   "outputs": [],
   "source": [
    "df.to_csv(\"data.csv\")"
   ]
  },
  {
   "cell_type": "markdown",
   "id": "ef580cc8",
   "metadata": {},
   "source": [
    "I saved the data I extracted as data.csv for later use. When I was going to use it, I imported this data and used it."
   ]
  },
  {
   "cell_type": "code",
   "execution_count": 2,
   "id": "bdb5fb28",
   "metadata": {},
   "outputs": [],
   "source": [
    "imported = pd.read_csv(\"data.csv\")"
   ]
  },
  {
   "cell_type": "code",
   "execution_count": 3,
   "id": "ba6729e2",
   "metadata": {},
   "outputs": [],
   "source": [
    "imported = imported.fillna(0)"
   ]
  },
  {
   "cell_type": "markdown",
   "id": "5ba73b10",
   "metadata": {},
   "source": [
    "### Q1.1"
   ]
  },
  {
   "cell_type": "markdown",
   "id": "25571790",
   "metadata": {},
   "source": [
    "I first wrote a function to find the most absent person every year in the roll call. This function takes the data of a year and selects only the ones in the quorum type from this data and passes other types of data. In the quorum data, if the legislator is not present in that election, I incremented his score by one and finally returned the 10 most absent people in that year as a dictionary. I did this for each year in order from 1990 to 2023 and stored it in an array named Quotes_by_years. Each element of the list represents the year 1990 after the index number. I made a few sample demonstrations."
   ]
  },
  {
   "cell_type": "code",
   "execution_count": 142,
   "id": "8d64b941",
   "metadata": {},
   "outputs": [],
   "source": [
    "def Quorum(data):\n",
    "    quorum = defaultdict(int)\n",
    "    for roll_call_str in data[1:]:\n",
    "        if not roll_call_str:\n",
    "            break\n",
    "\n",
    "        roll_call = eval(roll_call_str)\n",
    "        if roll_call[\"rollcall-vote\"][\"vote-metadata\"][\"vote-type\"] != 'QUORUM':\n",
    "            continue\n",
    "\n",
    "\n",
    "        for legislator in roll_call[\"rollcall-vote\"][\"vote-data\"][\"recorded-vote\"]:\n",
    "            if legislator[\"vote\"] == \"Not Voting\":\n",
    "                quorum[(legislator[\"legislator\"][\"#text\"],legislator[\"legislator\"][\"@state\"])] += 1\n",
    "\n",
    "    return dict(heapq.nlargest(10, quorum.items(), key=itemgetter(1)))\n",
    "        \n",
    "    \n",
    "            "
   ]
  },
  {
   "cell_type": "code",
   "execution_count": 149,
   "id": "b7614480",
   "metadata": {},
   "outputs": [],
   "source": [
    "Quotes_by_years = [Quorum(imported.iloc[year]) for year in range(34)]"
   ]
  },
  {
   "cell_type": "code",
   "execution_count": 156,
   "id": "9a9661aa",
   "metadata": {},
   "outputs": [
    {
     "data": {
      "text/plain": [
       "{('Gekas', 'PA'): 3,\n",
       " ('McIntosh', 'IN'): 3,\n",
       " ('Scarborough', 'FL'): 3,\n",
       " ('Abercrombie', 'HI'): 2,\n",
       " ('Barton', 'TX'): 2,\n",
       " ('Berman', 'CA'): 2,\n",
       " ('Campbell', 'CA'): 2,\n",
       " ('Chambliss', 'GA'): 2,\n",
       " ('Danner', 'MO'): 2,\n",
       " ('Doggett', 'TX'): 2}"
      ]
     },
     "execution_count": 156,
     "metadata": {},
     "output_type": "execute_result"
    }
   ],
   "source": [
    "Quotes_by_years[10]"
   ]
  },
  {
   "cell_type": "code",
   "execution_count": 158,
   "id": "70729869",
   "metadata": {},
   "outputs": [
    {
     "data": {
      "text/plain": [
       "{('Payne', 'NJ'): 2,\n",
       " ('Gonzalez, Vicente', 'TX'): 2,\n",
       " ('Van Orden', 'WI'): 2,\n",
       " ('McEachin', 'VA'): 1,\n",
       " ('Bilirakis', 'FL'): 1,\n",
       " ('Hunt', 'TX'): 1,\n",
       " ('Smith (WA)', 'WA'): 1,\n",
       " ('Wexton', 'VA'): 1,\n",
       " ('Boyle (PA)', 'PA'): 1,\n",
       " ('Correa', 'CA'): 1}"
      ]
     },
     "execution_count": 158,
     "metadata": {},
     "output_type": "execute_result"
    }
   ],
   "source": [
    "Quotes_by_years[33]"
   ]
  },
  {
   "cell_type": "markdown",
   "id": "8cfd5679",
   "metadata": {},
   "source": [
    "### Q1.2"
   ]
  },
  {
   "cell_type": "markdown",
   "id": "7e44cb2a",
   "metadata": {},
   "source": [
    "For this question, I scanned all the data from 1990 to 2023. I allocated a set for each state that voted and added the name of everyone who voted from that state to the set. After scanning all the votes, I returned the name of each state and the length of the set for that state in a dictionary."
   ]
  },
  {
   "cell_type": "code",
   "execution_count": 138,
   "id": "b8279a64",
   "metadata": {},
   "outputs": [],
   "source": [
    "def Count_Legislator(data):\n",
    "    legislator_set = defaultdict(set)\n",
    "    for i in range(34):\n",
    "        \n",
    "        data = imported.iloc[i]\n",
    "        for roll_call_str in data[1:]:\n",
    "            if not roll_call_str:\n",
    "                break\n",
    "\n",
    "            roll_call = eval(roll_call_str)\n",
    "            \n",
    "            if not roll_call[\"rollcall-vote\"][\"vote-data\"]:\n",
    "                continue   \n",
    "\n",
    "            for legislator in roll_call[\"rollcall-vote\"][\"vote-data\"][\"recorded-vote\"]:\n",
    "                legislator_set[legislator[\"legislator\"][\"@state\"]].add(legislator[\"legislator\"][\"#text\"])\n",
    "                \n",
    "        print(str(i) + \" is done.\")\n",
    "    return {i: len(j) for i,j in legislator_set.items()}"
   ]
  },
  {
   "cell_type": "code",
   "execution_count": 139,
   "id": "5b8c3d95",
   "metadata": {},
   "outputs": [
    {
     "name": "stdout",
     "output_type": "stream",
     "text": [
      "0 is done.\n",
      "1 is done.\n",
      "2 is done.\n",
      "3 is done.\n",
      "4 is done.\n",
      "5 is done.\n",
      "6 is done.\n",
      "7 is done.\n",
      "8 is done.\n",
      "9 is done.\n",
      "10 is done.\n",
      "11 is done.\n",
      "12 is done.\n",
      "13 is done.\n",
      "14 is done.\n",
      "15 is done.\n",
      "16 is done.\n",
      "17 is done.\n",
      "18 is done.\n",
      "19 is done.\n",
      "20 is done.\n",
      "21 is done.\n",
      "22 is done.\n",
      "23 is done.\n",
      "24 is done.\n",
      "25 is done.\n",
      "26 is done.\n",
      "27 is done.\n",
      "28 is done.\n",
      "29 is done.\n",
      "30 is done.\n",
      "31 is done.\n",
      "32 is done.\n",
      "33 is done.\n"
     ]
    }
   ],
   "source": [
    "Count_Legislators = Count_Legislator(imported)"
   ]
  },
  {
   "cell_type": "code",
   "execution_count": 142,
   "id": "51fe147a",
   "metadata": {},
   "outputs": [
    {
     "data": {
      "text/plain": [
       "{'NY': 122,\n",
       " 'HI': 12,\n",
       " 'AR': 21,\n",
       " 'CA': 175,\n",
       " 'TX': 122,\n",
       " 'IL': 74,\n",
       " 'OH': 71,\n",
       " 'WI': 32,\n",
       " 'MA': 31,\n",
       " 'OR': 21,\n",
       " 'LA': 32,\n",
       " 'NC': 52,\n",
       " 'GA': 56,\n",
       " 'VA': 52,\n",
       " 'FL': 117,\n",
       " 'MD': 27,\n",
       " 'NE': 11,\n",
       " 'AL': 28,\n",
       " 'NV': 16,\n",
       " 'MI': 63,\n",
       " 'PA': 86,\n",
       " 'ME': 12,\n",
       " 'CO': 32,\n",
       " 'MO': 29,\n",
       " 'KY': 25,\n",
       " 'IN': 43,\n",
       " 'DE': 4,\n",
       " 'WA': 37,\n",
       " 'TN': 35,\n",
       " 'NJ': 44,\n",
       " 'ID': 12,\n",
       " 'SC': 26,\n",
       " 'ND': 5,\n",
       " 'NH': 14,\n",
       " 'OK': 30,\n",
       " 'MS': 18,\n",
       " 'MN': 37,\n",
       " 'CT': 18,\n",
       " 'KS': 27,\n",
       " 'IA': 21,\n",
       " 'UT': 19,\n",
       " 'SD': 6,\n",
       " 'AZ': 33,\n",
       " 'RI': 10,\n",
       " 'MT': 9,\n",
       " 'WV': 11,\n",
       " 'NM': 21,\n",
       " 'VT': 5,\n",
       " 'WY': 5,\n",
       " 'AK': 3,\n",
       " 'XX': 18}"
      ]
     },
     "execution_count": 142,
     "metadata": {},
     "output_type": "execute_result"
    }
   ],
   "source": [
    "Count_Legislators"
   ]
  },
  {
   "cell_type": "markdown",
   "id": "4f44df9c",
   "metadata": {},
   "source": [
    "### Q1.3\n"
   ]
  },
  {
   "cell_type": "markdown",
   "id": "4cda64c9",
   "metadata": {},
   "source": [
    "For this question, I stored the dates each legislator voted, their name, state, party, how many times they voted and how many times they didn't vote in a dictionary, then converted each element into a dataFrame and merged them together."
   ]
  },
  {
   "cell_type": "code",
   "execution_count": 189,
   "id": "48b498d3",
   "metadata": {},
   "outputs": [],
   "source": [
    "def FindDetails(data):\n",
    "    rows = dict()\n",
    "    for roll_call_str in data[1:]:\n",
    "        if type(roll_call_str) == float:\n",
    "            break\n",
    "\n",
    "        roll_call = eval(roll_call_str)\n",
    "        if roll_call[\"rollcall-vote\"][\"vote-metadata\"][\"vote-type\"] != 'QUORUM':\n",
    "            continue\n",
    "\n",
    "\n",
    "        for legislator in roll_call[\"rollcall-vote\"][\"vote-data\"][\"recorded-vote\"]:\n",
    "            if (roll_call[\"rollcall-vote\"][\"vote-metadata\"][\"action-date\"],legislator[\"legislator\"][\"#text\"],legislator[\"legislator\"][\"@state\"],legislator[\"legislator\"][\"@party\"]) not in rows.keys():\n",
    "                rows[(roll_call[\"rollcall-vote\"][\"vote-metadata\"][\"action-date\"],legislator[\"legislator\"][\"#text\"],legislator[\"legislator\"][\"@state\"],legislator[\"legislator\"][\"@party\"])] = [0,0]\n",
    "            if legislator[\"vote\"] == \"Not Voting\":\n",
    "                rows[(roll_call[\"rollcall-vote\"][\"vote-metadata\"][\"action-date\"],legislator[\"legislator\"][\"#text\"],legislator[\"legislator\"][\"@state\"],legislator[\"legislator\"][\"@party\"])][1] += 1\n",
    "            else:\n",
    "                rows[(roll_call[\"rollcall-vote\"][\"vote-metadata\"][\"action-date\"],legislator[\"legislator\"][\"#text\"],legislator[\"legislator\"][\"@state\"],legislator[\"legislator\"][\"@party\"])][0] += 1\n",
    "\n",
    "    return rows\n"
   ]
  },
  {
   "cell_type": "code",
   "execution_count": 190,
   "id": "b6adf81d",
   "metadata": {},
   "outputs": [],
   "source": [
    "Details = pd.DataFrame({})"
   ]
  },
  {
   "cell_type": "code",
   "execution_count": 191,
   "id": "a47071c9",
   "metadata": {},
   "outputs": [],
   "source": [
    "for year in range(34):\n",
    "    rows_by_years = FindDetails(imported.iloc[year])\n",
    "    new_row = dict()\n",
    "    for key, value in rows_by_years.items():\n",
    "        date, name, state, party = key\n",
    "        voted, not_voted = value\n",
    "        date = datetime.strptime(date, \"%d-%b-%Y\")\n",
    "        new_row[\"Date\"] = date\n",
    "        new_row[\"Name\"] = name\n",
    "        new_row[\"State\"] = state\n",
    "        new_row[\"Party\"] = party\n",
    "        new_row[\"Voted\"] = voted\n",
    "        new_row[\"Not Voted\"] = not_voted\n",
    "        Details = pd.concat([Details, pd.DataFrame([new_row])], ignore_index=True)\n",
    "        \n",
    "    \n",
    "    "
   ]
  },
  {
   "cell_type": "code",
   "execution_count": 192,
   "id": "f452fa7a",
   "metadata": {},
   "outputs": [
    {
     "data": {
      "text/html": [
       "<div>\n",
       "<style scoped>\n",
       "    .dataframe tbody tr th:only-of-type {\n",
       "        vertical-align: middle;\n",
       "    }\n",
       "\n",
       "    .dataframe tbody tr th {\n",
       "        vertical-align: top;\n",
       "    }\n",
       "\n",
       "    .dataframe thead th {\n",
       "        text-align: right;\n",
       "    }\n",
       "</style>\n",
       "<table border=\"1\" class=\"dataframe\">\n",
       "  <thead>\n",
       "    <tr style=\"text-align: right;\">\n",
       "      <th></th>\n",
       "      <th>Date</th>\n",
       "      <th>Name</th>\n",
       "      <th>State</th>\n",
       "      <th>Party</th>\n",
       "      <th>Voted</th>\n",
       "      <th>Not Voted</th>\n",
       "    </tr>\n",
       "  </thead>\n",
       "  <tbody>\n",
       "    <tr>\n",
       "      <th>0</th>\n",
       "      <td>1990-01-23</td>\n",
       "      <td>Ackerman</td>\n",
       "      <td>NY</td>\n",
       "      <td>D</td>\n",
       "      <td>1</td>\n",
       "      <td>0</td>\n",
       "    </tr>\n",
       "    <tr>\n",
       "      <th>1</th>\n",
       "      <td>1990-01-23</td>\n",
       "      <td>Akaka</td>\n",
       "      <td>HI</td>\n",
       "      <td>D</td>\n",
       "      <td>1</td>\n",
       "      <td>0</td>\n",
       "    </tr>\n",
       "    <tr>\n",
       "      <th>2</th>\n",
       "      <td>1990-01-23</td>\n",
       "      <td>Alexander</td>\n",
       "      <td>AR</td>\n",
       "      <td>D</td>\n",
       "      <td>1</td>\n",
       "      <td>0</td>\n",
       "    </tr>\n",
       "    <tr>\n",
       "      <th>3</th>\n",
       "      <td>1990-01-23</td>\n",
       "      <td>Anderson</td>\n",
       "      <td>CA</td>\n",
       "      <td>D</td>\n",
       "      <td>1</td>\n",
       "      <td>0</td>\n",
       "    </tr>\n",
       "    <tr>\n",
       "      <th>4</th>\n",
       "      <td>1990-01-23</td>\n",
       "      <td>Andrews (TX)</td>\n",
       "      <td>TX</td>\n",
       "      <td>D</td>\n",
       "      <td>1</td>\n",
       "      <td>0</td>\n",
       "    </tr>\n",
       "    <tr>\n",
       "      <th>...</th>\n",
       "      <td>...</td>\n",
       "      <td>...</td>\n",
       "      <td>...</td>\n",
       "      <td>...</td>\n",
       "      <td>...</td>\n",
       "      <td>...</td>\n",
       "    </tr>\n",
       "    <tr>\n",
       "      <th>71521</th>\n",
       "      <td>2023-10-25</td>\n",
       "      <td>Wilson (SC)</td>\n",
       "      <td>SC</td>\n",
       "      <td>R</td>\n",
       "      <td>1</td>\n",
       "      <td>0</td>\n",
       "    </tr>\n",
       "    <tr>\n",
       "      <th>71522</th>\n",
       "      <td>2023-10-25</td>\n",
       "      <td>Wittman</td>\n",
       "      <td>VA</td>\n",
       "      <td>R</td>\n",
       "      <td>1</td>\n",
       "      <td>0</td>\n",
       "    </tr>\n",
       "    <tr>\n",
       "      <th>71523</th>\n",
       "      <td>2023-10-25</td>\n",
       "      <td>Womack</td>\n",
       "      <td>AR</td>\n",
       "      <td>R</td>\n",
       "      <td>1</td>\n",
       "      <td>0</td>\n",
       "    </tr>\n",
       "    <tr>\n",
       "      <th>71524</th>\n",
       "      <td>2023-10-25</td>\n",
       "      <td>Yakym</td>\n",
       "      <td>IN</td>\n",
       "      <td>R</td>\n",
       "      <td>1</td>\n",
       "      <td>0</td>\n",
       "    </tr>\n",
       "    <tr>\n",
       "      <th>71525</th>\n",
       "      <td>2023-10-25</td>\n",
       "      <td>Zinke</td>\n",
       "      <td>MT</td>\n",
       "      <td>R</td>\n",
       "      <td>1</td>\n",
       "      <td>0</td>\n",
       "    </tr>\n",
       "  </tbody>\n",
       "</table>\n",
       "<p>71526 rows × 6 columns</p>\n",
       "</div>"
      ],
      "text/plain": [
       "            Date          Name State Party  Voted  Not Voted\n",
       "0     1990-01-23      Ackerman    NY     D      1          0\n",
       "1     1990-01-23         Akaka    HI     D      1          0\n",
       "2     1990-01-23     Alexander    AR     D      1          0\n",
       "3     1990-01-23      Anderson    CA     D      1          0\n",
       "4     1990-01-23  Andrews (TX)    TX     D      1          0\n",
       "...          ...           ...   ...   ...    ...        ...\n",
       "71521 2023-10-25   Wilson (SC)    SC     R      1          0\n",
       "71522 2023-10-25       Wittman    VA     R      1          0\n",
       "71523 2023-10-25        Womack    AR     R      1          0\n",
       "71524 2023-10-25         Yakym    IN     R      1          0\n",
       "71525 2023-10-25         Zinke    MT     R      1          0\n",
       "\n",
       "[71526 rows x 6 columns]"
      ]
     },
     "execution_count": 192,
     "metadata": {},
     "output_type": "execute_result"
    }
   ],
   "source": [
    "Details"
   ]
  },
  {
   "cell_type": "code",
   "execution_count": 193,
   "id": "b8a9c242",
   "metadata": {},
   "outputs": [],
   "source": [
    "Details.to_csv(\"Details.csv\")"
   ]
  },
  {
   "cell_type": "markdown",
   "id": "2f76f553",
   "metadata": {},
   "source": [
    "To avoid recalculating the Details dataframe every time, I wrote it in a file so that I could just import it the next time."
   ]
  },
  {
   "cell_type": "code",
   "execution_count": 144,
   "id": "9060aef3",
   "metadata": {},
   "outputs": [],
   "source": [
    "Details = pd.read_csv(\"Details.csv\")"
   ]
  },
  {
   "cell_type": "code",
   "execution_count": 145,
   "id": "fa05721c",
   "metadata": {},
   "outputs": [],
   "source": [
    "dateDetails = list(Details[\"Date\"])\n",
    "justYear = []\n",
    "for i,j in enumerate(dateDetails):\n",
    "    dateDetails[i] = datetime.strptime(j, \"%Y-%m-%d\")\n",
    "    justYear.append(dateDetails[i].year)\n",
    "Details[\"Date\"] = dateDetails"
   ]
  },
  {
   "cell_type": "markdown",
   "id": "de399f1e",
   "metadata": {},
   "source": [
    "In order to find the person who has been in service the longest, I converted the date part of the details dataframe to just the year. After grouping the dataframe by names, I subtracted the year in which each name was last voted from the year in which it was first voted, so I found out how many years everyone has been in office."
   ]
  },
  {
   "cell_type": "code",
   "execution_count": 153,
   "id": "55dcbed7",
   "metadata": {},
   "outputs": [
    {
     "data": {
      "text/plain": [
       "Name\n",
       "Hayes        33\n",
       "Panetta      33\n",
       "Kildee       33\n",
       "Pallone      33\n",
       "Owens        33\n",
       "Hoyer        33\n",
       "Craig        33\n",
       "Schiff       33\n",
       "Schneider    33\n",
       "Evans        33\n",
       "Name: Date, dtype: int64"
      ]
     },
     "execution_count": 153,
     "metadata": {},
     "output_type": "execute_result"
    }
   ],
   "source": [
    "clean_year_details = Details.copy()\n",
    "clean_year_details[\"Date\"] = justYear\n",
    "longest = clean_year_details.groupby(\"Name\")[\"Date\"].agg(np.ptp)\n",
    "longest.sort_values(ascending = False)[:10]"
   ]
  },
  {
   "cell_type": "markdown",
   "id": "11d14bee",
   "metadata": {},
   "source": [
    "### Q2"
   ]
  },
  {
   "cell_type": "markdown",
   "id": "121c3318",
   "metadata": {},
   "source": [
    "For this question, I first wrote a function that does the polarization operation for the vote."
   ]
  },
  {
   "cell_type": "code",
   "execution_count": 160,
   "id": "08d26dca",
   "metadata": {},
   "outputs": [],
   "source": [
    "def MeasurePolarization(vote):\n",
    "    votes = vote[\"rollcall-vote\"][\"vote-metadata\"][\"vote-totals\"][\"totals-by-party\"]\n",
    "    \n",
    "    RepY = int(votes[0][\"yea-total\"])\n",
    "    RepN = int(votes[0][\"nay-total\"])\n",
    "    DemY = int(votes[1][\"yea-total\"])\n",
    "    DemN = int(votes[1][\"nay-total\"])\n",
    "    \n",
    "    total = RepY + RepN + DemY + DemN\n",
    "    if total == 0:    total += 1\n",
    "    pol = (abs(RepY - DemY) + abs(RepN - DemN)) / total\n",
    "    \n",
    "    return pol\n",
    "    "
   ]
  },
  {
   "cell_type": "code",
   "execution_count": 161,
   "id": "77613f74",
   "metadata": {},
   "outputs": [],
   "source": [
    "Polarizations = pd.DataFrame()"
   ]
  },
  {
   "cell_type": "markdown",
   "id": "046a51b6",
   "metadata": {},
   "source": [
    "I then used this function to calculate the polarization of each vote each year and saved it in the Polarizations dataframe"
   ]
  },
  {
   "cell_type": "code",
   "execution_count": 163,
   "id": "fe57825e",
   "metadata": {},
   "outputs": [
    {
     "name": "stdout",
     "output_type": "stream",
     "text": [
      "0. row done.\n",
      "1. row done.\n",
      "2. row done.\n",
      "3. row done.\n",
      "4. row done.\n",
      "5. row done.\n",
      "6. row done.\n",
      "7. row done.\n",
      "8. row done.\n",
      "9. row done.\n",
      "10. row done.\n",
      "11. row done.\n",
      "12. row done.\n",
      "13. row done.\n",
      "14. row done.\n",
      "15. row done.\n",
      "16. row done.\n",
      "17. row done.\n",
      "18. row done.\n",
      "19. row done.\n",
      "20. row done.\n",
      "21. row done.\n",
      "22. row done.\n",
      "23. row done.\n",
      "24. row done.\n",
      "25. row done.\n",
      "26. row done.\n",
      "27. row done.\n",
      "28. row done.\n",
      "29. row done.\n",
      "30. row done.\n",
      "31. row done.\n",
      "32. row done.\n",
      "33. row done.\n"
     ]
    }
   ],
   "source": [
    "for row in range(34):\n",
    "    for data_str in imported.iloc[row][1:]:\n",
    "        if type(data_str) != str:\n",
    "            break\n",
    "        data = eval(data_str)\n",
    "        \n",
    "        if \"rollcall-vote\" not in data:\n",
    "            continue\n",
    "        \n",
    "        if \"vote-metadata\" not in data[\"rollcall-vote\"]:\n",
    "            continue\n",
    "            \n",
    "        if \"vote-totals\" not in data[\"rollcall-vote\"][\"vote-metadata\"]:\n",
    "            continue\n",
    "        \n",
    "        if \"totals-by-party\" not in data[\"rollcall-vote\"][\"vote-metadata\"][\"vote-totals\"]:\n",
    "            continue\n",
    "        \n",
    "        pol = MeasurePolarization(data)\n",
    "        date = data[\"rollcall-vote\"][\"vote-metadata\"][\"action-date\"]\n",
    "        date = datetime.strptime(date, \"%d-%b-%Y\")\n",
    "        \n",
    "        df = pd.DataFrame([{\"Date\": date, \"Polarization\": pol}])\n",
    "        Polarizations = pd.concat([Polarizations, df], ignore_index=True)\n",
    "    print(str(row) + \". row done.\")"
   ]
  },
  {
   "cell_type": "markdown",
   "id": "ec9ef62d",
   "metadata": {},
   "source": [
    "In order to plot the polarization, I grouped them by year and calculated the average of each year and then plotted it."
   ]
  },
  {
   "cell_type": "markdown",
   "id": "d8b57b90",
   "metadata": {},
   "source": [
    "Looking at the graph, we can say the following: From 1990 to 1995, the polarization increases, and from 1995 to 2000, there is a serious decline. Then it climbs up again in a 5-year period. Until 2015, these 5-year changes are experienced continuously. From 2015 to 2023, there are relatively small but sudden rises and falls in short periods."
   ]
  },
  {
   "cell_type": "code",
   "execution_count": 164,
   "id": "b7592d33",
   "metadata": {},
   "outputs": [
    {
     "data": {
      "text/plain": [
       "<Axes: xlabel='Date'>"
      ]
     },
     "execution_count": 164,
     "metadata": {},
     "output_type": "execute_result"
    },
    {
     "data": {
      "image/png": "[encoded data removed]",
      "text/plain": [
       "<Figure size 640x480 with 1 Axes>"
      ]
     },
     "metadata": {},
     "output_type": "display_data"
    }
   ],
   "source": [
    "Polarizations.groupby(Polarizations[\"Date\"].dt.year)[\"Polarization\"].mean().plot()"
   ]
  },
  {
   "cell_type": "markdown",
   "id": "8f0dd3fa",
   "metadata": {},
   "source": [
    "### Q3.1\n"
   ]
  },
  {
   "cell_type": "markdown",
   "id": "66639faa",
   "metadata": {},
   "source": [
    "For this question, I used the details dataframe I calculated in the question above. I grouped the dataframe by the names of the legislators and imported the sum of the votes cast into a new dataframe"
   ]
  },
  {
   "cell_type": "code",
   "execution_count": 270,
   "id": "41d0ac8d",
   "metadata": {},
   "outputs": [
    {
     "data": {
      "text/plain": [
       "Name\n",
       "Abercrombie     120\n",
       "Abraham           7\n",
       "Ackerman        148\n",
       "Adams            18\n",
       "Aderholt         75\n",
       "               ... \n",
       "Zeliff           75\n",
       "Zimmer           78\n",
       "Zinke             9\n",
       "de Lugo (VI)     16\n",
       "de la Garza      92\n",
       "Name: Voted, Length: 1713, dtype: int64"
      ]
     },
     "execution_count": 270,
     "metadata": {},
     "output_type": "execute_result"
    }
   ],
   "source": [
    "yearly_voted = clean_year_details.groupby(\"Name\")[\"Voted\"].sum()\n",
    "yearly_voted"
   ]
  },
  {
   "cell_type": "markdown",
   "id": "386389e9",
   "metadata": {},
   "source": [
    "### Q3.2"
   ]
  },
  {
   "cell_type": "markdown",
   "id": "25c838db",
   "metadata": {},
   "source": [
    "For this question, I wrote a function to calculate how many votes each legislator was aligned with his/her party in that year and how many votes he/she was aligned against his/her party in that year. First, I determined the alignment of each party in that election with -1 0 or 1 and then I found the number of voters who voted in line with this alignment or not."
   ]
  },
  {
   "cell_type": "code",
   "execution_count": 97,
   "id": "5cc577e2",
   "metadata": {},
   "outputs": [],
   "source": [
    "def FindDetails(data):\n",
    "    rows = dict()\n",
    "    for roll_call_str in data[1:]:\n",
    "        if type(roll_call_str) != str:\n",
    "            break\n",
    "\n",
    "        data = eval(roll_call_str)\n",
    "        \n",
    "        if \"rollcall-vote\" not in data:\n",
    "            continue\n",
    "\n",
    "        if \"vote-metadata\" not in data[\"rollcall-vote\"]:\n",
    "            continue\n",
    "        \n",
    "        if data[\"rollcall-vote\"][\"vote-metadata\"][\"vote-type\"] == 'QUORUM':\n",
    "            continue\n",
    "        \n",
    "        if \"vote-data\" not in data[\"rollcall-vote\"]:\n",
    "            continue\n",
    "        \n",
    "        if data[\"rollcall-vote\"][\"vote-data\"] is None:\n",
    "            continue\n",
    "        \n",
    "        if \"recorded-vote\" not in data[\"rollcall-vote\"][\"vote-data\"]:\n",
    "            continue\n",
    "        \n",
    "        if \"vote-totals\" not in data[\"rollcall-vote\"][\"vote-metadata\"]:\n",
    "            continue\n",
    "        \n",
    "        if \"totals-by-party\" not in data[\"rollcall-vote\"][\"vote-metadata\"][\"vote-totals\"]:\n",
    "            continue\n",
    "            \n",
    "\n",
    "        \n",
    "        votes = data[\"rollcall-vote\"][\"vote-metadata\"][\"vote-totals\"][\"totals-by-party\"]\n",
    "    \n",
    "        RepY = int(votes[0][\"yea-total\"])\n",
    "        RepN = int(votes[0][\"nay-total\"])\n",
    "        DemY = int(votes[1][\"yea-total\"])\n",
    "        DemN = int(votes[1][\"nay-total\"])\n",
    "        \n",
    "        rep = 0\n",
    "        if RepY > RepN:\n",
    "            rep = 1\n",
    "        elif RepY < RepN:\n",
    "            rep = -1\n",
    "        \n",
    "        dem = 0\n",
    "        if DemY > DemN:\n",
    "            dem = 1\n",
    "        elif DemY < DemN:\n",
    "            dem = -1\n",
    "        party_results = defaultdict(int)\n",
    "        party_results[\"D\"] = dem\n",
    "        party_results[\"R\"] = rep\n",
    "            \n",
    "\n",
    "        \n",
    "        for legislator in data[\"rollcall-vote\"][\"vote-data\"][\"recorded-vote\"]:\n",
    "            party = legislator[\"legislator\"][\"@party\"]\n",
    "\n",
    "            \n",
    "            if (legislator[\"legislator\"][\"#text\"],legislator[\"legislator\"][\"@state\"],legislator[\"legislator\"][\"@party\"]) not in rows.keys():\n",
    "                rows[(legislator[\"legislator\"][\"#text\"],legislator[\"legislator\"][\"@state\"],legislator[\"legislator\"][\"@party\"])] = [0,0]\n",
    "                \n",
    "            if legislator[\"vote\"] == \"Yea\":\n",
    "                vote = 1\n",
    "            else:\n",
    "                vote = -1\n",
    "            \n",
    "            if party_results[party] != 0:\n",
    "                if party_results[party] == vote:\n",
    "                    rows[(legislator[\"legislator\"][\"#text\"],legislator[\"legislator\"][\"@state\"],legislator[\"legislator\"][\"@party\"])][0] += 1\n",
    "                else:\n",
    "                    rows[(legislator[\"legislator\"][\"#text\"],legislator[\"legislator\"][\"@state\"],legislator[\"legislator\"][\"@party\"])][1] += 1\n",
    "\n",
    "      \n",
    "    return rows\n"
   ]
  },
  {
   "cell_type": "markdown",
   "id": "0404f9a9",
   "metadata": {},
   "source": [
    "I stored each year's along and break results as separate dictionaries in alongs_and_breaks array."
   ]
  },
  {
   "cell_type": "code",
   "execution_count": 99,
   "id": "af5a8470",
   "metadata": {},
   "outputs": [
    {
     "name": "stdout",
     "output_type": "stream",
     "text": [
      "1990. year done.\n",
      "1991. year done.\n",
      "1992. year done.\n",
      "1993. year done.\n",
      "1994. year done.\n",
      "1995. year done.\n",
      "1996. year done.\n",
      "1997. year done.\n",
      "1998. year done.\n",
      "1999. year done.\n",
      "2000. year done.\n",
      "2001. year done.\n",
      "2002. year done.\n",
      "2003. year done.\n",
      "2004. year done.\n",
      "2005. year done.\n",
      "2006. year done.\n",
      "2007. year done.\n",
      "2008. year done.\n",
      "2009. year done.\n",
      "2010. year done.\n",
      "2011. year done.\n",
      "2012. year done.\n",
      "2013. year done.\n",
      "2014. year done.\n",
      "2015. year done.\n",
      "2016. year done.\n",
      "2017. year done.\n",
      "2018. year done.\n",
      "2019. year done.\n",
      "2020. year done.\n",
      "2021. year done.\n",
      "2022. year done.\n",
      "2023. year done.\n"
     ]
    }
   ],
   "source": [
    "alongs_and_breaks = []\n",
    "\n",
    "for i in range(34):\n",
    "    data = FindDetails(imported.iloc[i])\n",
    "    alongs_and_breaks.append(data)\n",
    "    print(str(i + 1990) + \". year done.\")"
   ]
  },
  {
   "cell_type": "markdown",
   "id": "d6beda6e",
   "metadata": {},
   "source": [
    "### Q3.2"
   ]
  },
  {
   "cell_type": "markdown",
   "id": "3ede82f0",
   "metadata": {},
   "source": [
    "Each year I checked all votes of all people to find those who never broke the party line and recorded the number of people who did not break with their party line that year."
   ]
  },
  {
   "cell_type": "code",
   "execution_count": 120,
   "id": "16c7f9ad",
   "metadata": {},
   "outputs": [
    {
     "name": "stdout",
     "output_type": "stream",
     "text": [
      "1991: I 1 \n",
      "1992: I 1 \n",
      "1993: D 2 I 1 \n",
      "1994: I 1 \n",
      "1995: I 1 \n",
      "1996: I 1 \n",
      "1997: I 2 \n",
      "1998: I 1 D 1 \n",
      "1999: I 1 \n",
      "2000: I 2 \n",
      "2001: I 2 \n",
      "2002: I 2 \n",
      "2003: I 1 \n",
      "2004: I 1 \n",
      "2005: I 1 \n",
      "2006: I 1 \n",
      "2007: R 1 \n",
      "2009: I 2 \n",
      "2019: I 1 \n",
      "2020: I 2 D 1 \n",
      "2021: D 2 R 1 \n",
      "2022: D 1 \n"
     ]
    }
   ],
   "source": [
    "never_broke = []\n",
    "for year in range(34):\n",
    "    yearly_broke = defaultdict(int)\n",
    "    for person, vote in alongs_and_breaks[year].items():\n",
    "        name, state, party = person\n",
    "        if vote[1] == 0:\n",
    "            yearly_broke[party] += 1\n",
    "    never_broke.append(yearly_broke)\n",
    "    \n",
    "for i in range(34):\n",
    "    if len(never_broke[i].keys()) > 0:\n",
    "        print(str(i + 1990) + \": \", end = \"\")\n",
    "        for j,k in never_broke[i].items():\n",
    "            print(j,k, end = \" \")\n",
    "        print(\"\")\n",
    "    "
   ]
  },
  {
   "cell_type": "markdown",
   "id": "a34603c0",
   "metadata": {},
   "source": [
    "### Q3.4"
   ]
  },
  {
   "cell_type": "markdown",
   "id": "2d504d36",
   "metadata": {},
   "source": [
    "For this question, I made a list of the people who broke the party line the most each year and returned 5 names that broke the line."
   ]
  },
  {
   "cell_type": "code",
   "execution_count": 127,
   "id": "c5f00f76",
   "metadata": {},
   "outputs": [
    {
     "data": {
      "text/plain": [
       "[[('de la Garza', 'TX', 148),\n",
       "  ('Young (FL)', 'FL', 193),\n",
       "  ('Young (AK)', 'AK', 202),\n",
       "  ('Yatron', 'PA', 152),\n",
       "  ('Yates', 'IL', 163)],\n",
       " [('de la Garza', 'TX', 114),\n",
       "  ('Zimmer', 'NJ', 149),\n",
       "  ('Zeliff', 'NH', 151),\n",
       "  ('Young (FL)', 'FL', 153),\n",
       "  ('Young (AK)', 'AK', 160)],\n",
       " [('de la Garza', 'TX', 146),\n",
       "  ('Zimmer', 'NJ', 149),\n",
       "  ('Zeliff', 'NH', 146),\n",
       "  ('Young (FL)', 'FL', 148),\n",
       "  ('Young (AK)', 'AK', 164)],\n",
       " [('de la Garza', 'TX', 227),\n",
       "  ('de Lugo (VI)', 'XX', 78),\n",
       "  ('Zimmer', 'NJ', 259),\n",
       "  ('Zeliff', 'NH', 238),\n",
       "  ('Young (FL)', 'FL', 250)],\n",
       " [('de la Garza', 'TX', 184),\n",
       "  ('de Lugo (VI)', 'XX', 82),\n",
       "  ('Zimmer', 'NJ', 213),\n",
       "  ('Zeliff', 'NH', 208),\n",
       "  ('Young (FL)', 'FL', 196)],\n",
       " [('de la Garza', 'TX', 415),\n",
       "  ('Zimmer', 'NJ', 284),\n",
       "  ('Zeliff', 'NH', 238),\n",
       "  ('Young (FL)', 'FL', 253),\n",
       "  ('Young (AK)', 'AK', 262)],\n",
       " [('de la Garza', 'TX', 194),\n",
       "  ('Zimmer', 'NJ', 167),\n",
       "  ('Zeliff', 'NH', 129),\n",
       "  ('Young (FL)', 'FL', 166),\n",
       "  ('Young (AK)', 'AK', 137)],\n",
       " [('Young (FL)', 'FL', 227),\n",
       "  ('Young (AK)', 'AK', 257),\n",
       "  ('Yates', 'IL', 245),\n",
       "  ('Wynn', 'MD', 198),\n",
       "  ('Woolsey', 'CA', 216)],\n",
       " [('Young (FL)', 'FL', 203),\n",
       "  ('Young (AK)', 'AK', 184),\n",
       "  ('Yates', 'IL', 208),\n",
       "  ('Wynn', 'MD', 161),\n",
       "  ('Woolsey', 'CA', 165)],\n",
       " [('Young (FL)', 'FL', 183),\n",
       "  ('Young (AK)', 'AK', 206),\n",
       "  ('Wynn', 'MD', 177),\n",
       "  ('Wu', 'OR', 203),\n",
       "  ('Woolsey', 'CA', 172)],\n",
       " [('Young (FL)', 'FL', 174),\n",
       "  ('Young (AK)', 'AK', 213),\n",
       "  ('Wynn', 'MD', 153),\n",
       "  ('Wu', 'OR', 171),\n",
       "  ('Woolsey', 'CA', 149)],\n",
       " [('Young (FL)', 'FL', 105),\n",
       "  ('Young (AK)', 'AK', 165),\n",
       "  ('Wynn', 'MD', 140),\n",
       "  ('Wu', 'OR', 168),\n",
       "  ('Woolsey', 'CA', 140)],\n",
       " [('Young (FL)', 'FL', 129),\n",
       "  ('Young (AK)', 'AK', 156),\n",
       "  ('Wynn', 'MD', 132),\n",
       "  ('Wu', 'OR', 139),\n",
       "  ('Woolsey', 'CA', 133)],\n",
       " [('Young (FL)', 'FL', 167),\n",
       "  ('Young (AK)', 'AK', 155),\n",
       "  ('Wynn', 'MD', 166),\n",
       "  ('Wu', 'OR', 169),\n",
       "  ('Woolsey', 'CA', 189)],\n",
       " [('Young (FL)', 'FL', 141),\n",
       "  ('Young (AK)', 'AK', 131),\n",
       "  ('Wynn', 'MD', 166),\n",
       "  ('Wu', 'OR', 150),\n",
       "  ('Woolsey', 'CA', 175)],\n",
       " [('Young (FL)', 'FL', 199),\n",
       "  ('Young (AK)', 'AK', 174),\n",
       "  ('Wynn', 'MD', 210),\n",
       "  ('Wu', 'OR', 215),\n",
       "  ('Woolsey', 'CA', 216)],\n",
       " [('Young (FL)', 'FL', 107),\n",
       "  ('Young (AK)', 'AK', 128),\n",
       "  ('Wynn', 'MD', 149),\n",
       "  ('Wu', 'OR', 153),\n",
       "  ('Woolsey', 'CA', 166)],\n",
       " [('Young (FL)', 'FL', 394),\n",
       "  ('Young (AK)', 'AK', 418),\n",
       "  ('Yarmuth', 'KY', 235),\n",
       "  ('Wynn', 'MD', 238),\n",
       "  ('Wu', 'OR', 217)],\n",
       " [('Young (FL)', 'FL', 173),\n",
       "  ('Young (AK)', 'AK', 190),\n",
       "  ('Yarmuth', 'KY', 171),\n",
       "  ('Wynn', 'MD', 155),\n",
       "  ('Wu', 'OR', 179)],\n",
       " [('Young (FL)', 'FL', 408),\n",
       "  ('Young (AK)', 'AK', 421),\n",
       "  ('Yarmuth', 'KY', 266),\n",
       "  ('Wu', 'OR', 279),\n",
       "  ('Woolsey', 'CA', 287)],\n",
       " [('Young (FL)', 'FL', 257),\n",
       "  ('Young (AK)', 'AK', 243),\n",
       "  ('Yarmuth', 'KY', 183),\n",
       "  ('Wu', 'OR', 200),\n",
       "  ('Woolsey', 'CA', 230)],\n",
       " [('Young (IN)', 'IN', 280),\n",
       "  ('Young (FL)', 'FL', 325),\n",
       "  ('Young (AK)', 'AK', 344),\n",
       "  ('Yoder', 'KS', 282),\n",
       "  ('Yarmuth', 'KY', 379)],\n",
       " [('Young (IN)', 'IN', 201),\n",
       "  ('Young (FL)', 'FL', 230),\n",
       "  ('Young (AK)', 'AK', 240),\n",
       "  ('Yoder', 'KS', 212),\n",
       "  ('Yarmuth', 'KY', 241)],\n",
       " [('Young (IN)', 'IN', 160),\n",
       "  ('Young (FL)', 'FL', 213),\n",
       "  ('Young (AK)', 'AK', 221),\n",
       "  ('Yoho', 'FL', 172),\n",
       "  ('Yoder', 'KS', 180)],\n",
       " [('Young (IN)', 'IN', 172),\n",
       "  ('Young (AK)', 'AK', 176),\n",
       "  ('Yoho', 'FL', 187),\n",
       "  ('Yoder', 'KS', 175),\n",
       "  ('Yarmuth', 'KY', 174)],\n",
       " [('Zinke', 'MT', 220),\n",
       "  ('Zeldin', 'NY', 210),\n",
       "  ('Young (IN)', 'IN', 220),\n",
       "  ('Young (IA)', 'IA', 213),\n",
       "  ('Young (AK)', 'AK', 234)],\n",
       " [('Zinke', 'MT', 188),\n",
       "  ('Zeldin', 'NY', 179),\n",
       "  ('Young (IN)', 'IN', 185),\n",
       "  ('Young (IA)', 'IA', 173),\n",
       "  ('Young (AK)', 'AK', 190)],\n",
       " [('Zinke', 'MT', 71),\n",
       "  ('Zeldin', 'NY', 211),\n",
       "  ('Young (IA)', 'IA', 193),\n",
       "  ('Young (AK)', 'AK', 227),\n",
       "  ('Yoho', 'FL', 217)],\n",
       " [('Zeldin', 'NY', 155),\n",
       "  ('Young (IA)', 'IA', 127),\n",
       "  ('Young (AK)', 'AK', 155),\n",
       "  ('Yoho', 'FL', 156),\n",
       "  ('Yoder', 'KS', 146)],\n",
       " [('Zeldin', 'NY', 229),\n",
       "  ('Young', 'AK', 240),\n",
       "  ('Yoho', 'FL', 256),\n",
       "  ('Yarmuth', 'KY', 257),\n",
       "  ('Wright', 'TX', 245)],\n",
       " [('Zeldin', 'NY', 39),\n",
       "  ('Young', 'AK', 56),\n",
       "  ('Yoho', 'FL', 59),\n",
       "  ('Yarmuth', 'KY', 27),\n",
       "  ('Wright', 'TX', 76)],\n",
       " [('Zeldin', 'NY', 25),\n",
       "  ('Young', 'AK', 67),\n",
       "  ('Yarmuth', 'KY', 19),\n",
       "  ('Wright', 'TX', 5),\n",
       "  ('Womack', 'AR', 19)],\n",
       " [('Zeldin', 'NY', 83),\n",
       "  ('Young', 'AK', 15),\n",
       "  ('Yarmuth', 'KY', 132),\n",
       "  ('Yakym', 'IN', 2),\n",
       "  ('Womack', 'AR', 39)],\n",
       " [('Zinke', 'MT', 294),\n",
       "  ('Yakym', 'IN', 292),\n",
       "  ('Womack', 'AR', 292),\n",
       "  ('Wittman', 'VA', 298),\n",
       "  ('Wilson (SC)', 'SC', 292)]]"
      ]
     },
     "execution_count": 127,
     "metadata": {},
     "output_type": "execute_result"
    }
   ],
   "source": [
    "most_broke = []\n",
    "for year in range(34):\n",
    "    yearly_most = []\n",
    "\n",
    "    \n",
    "    for person, vote in alongs_and_breaks[year].items():\n",
    "        name, state, party = person\n",
    "        heapq.heappush(yearly_most, (name,state,vote[1]))\n",
    "\n",
    "    most_broke.append(heapq.nlargest(5, yearly_most))\n",
    "\n",
    "\n",
    "most_broke\n",
    "        "
   ]
  },
  {
   "cell_type": "code",
   "execution_count": null,
   "id": "3719aa67",
   "metadata": {},
   "outputs": [],
   "source": []
  },
  {
   "cell_type": "markdown",
   "id": "27648ff9",
   "metadata": {},
   "source": [
    "I couldn't do the last question"
   ]
  },
  {
   "cell_type": "code",
   "execution_count": 136,
   "id": "2bdad844",
   "metadata": {},
   "outputs": [
    {
     "name": "stdout",
     "output_type": "stream",
     "text": [
      "On Approving the Journal\n",
      "ON MOTION TO PROCEED IN ORDER\n",
      "MOTION TO INSTRUCT CONFEREES\n",
      "On Agreeing to the Conference Report\n",
      "On Agreeing to the Resolution\n",
      "On Agreeing to the Amendment\n",
      "On Motion to Recommit with Instructions\n",
      "On Passage\n",
      "SUSPEND THE RULES AND AGREE\n",
      "On Approving the Journal\n",
      "On Agreeing to the Resolution\n",
      "On Passage\n",
      "On Approving the Journal\n",
      "On Ordering the Previous Question\n",
      "On Agreeing to the Resolution\n",
      "Call of the House\n",
      "On Agreeing to the Amendment\n",
      "On Agreeing to the Amendment\n",
      "On Agreeing to the Amendment\n",
      "On Agreeing to the Amendment\n"
     ]
    }
   ],
   "source": [
    "for i in range(100,120):\n",
    "    asd = imported.iloc[0][i]\n",
    "    asd = eval(asd)\n",
    "    print(asd[\"rollcall-vote\"][\"vote-metadata\"][\"vote-question\"])"
   ]
  },
  {
   "cell_type": "code",
   "execution_count": 134,
   "id": "f26569ee",
   "metadata": {},
   "outputs": [
    {
     "data": {
      "text/plain": [
       "'Call of the House'"
      ]
     },
     "execution_count": 134,
     "metadata": {},
     "output_type": "execute_result"
    }
   ],
   "source": []
  },
  {
   "cell_type": "code",
   "execution_count": null,
   "id": "0adb9dba",
   "metadata": {},
   "outputs": [],
   "source": []
  }
 ],
 "metadata": {
  "kernelspec": {
   "display_name": "Python 3 (ipykernel)",
   "language": "python",
   "name": "python3"
  },
  "language_info": {
   "codemirror_mode": {
    "name": "ipython",
    "version": 3
   },
   "file_extension": ".py",
   "mimetype": "text/x-python",
   "name": "python",
   "nbconvert_exporter": "python",
   "pygments_lexer": "ipython3",
   "version": "3.11.6"
  }
 },
 "nbformat": 4,
 "nbformat_minor": 5
}
